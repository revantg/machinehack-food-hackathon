{
 "cells": [
  {
   "cell_type": "code",
   "execution_count": 23,
   "metadata": {},
   "outputs": [],
   "source": [
    "import pandas as pd\n",
    "import numpy as np\n",
    "import random"
   ]
  },
  {
   "cell_type": "code",
   "execution_count": 24,
   "metadata": {},
   "outputs": [],
   "source": [
    "df_actual = pd.read_excel(\"Actual_Food_Cost.xlsx\")"
   ]
  },
  {
   "cell_type": "code",
   "execution_count": 25,
   "metadata": {},
   "outputs": [],
   "source": [
    "df_test = pd.read_excel(\"Data_Test.xlsx\")"
   ]
  },
  {
   "cell_type": "code",
   "execution_count": 26,
   "metadata": {},
   "outputs": [
    {
     "data": {
      "text/plain": [
       "(4231, 4231)"
      ]
     },
     "execution_count": 26,
     "metadata": {},
     "output_type": "execute_result"
    }
   ],
   "source": [
    "len(df_test), len(df_actual)"
   ]
  },
  {
   "cell_type": "code",
   "execution_count": 27,
   "metadata": {},
   "outputs": [],
   "source": [
    "a = np.array([random.randint(-10, 10) for i in range(4231)])"
   ]
  },
  {
   "cell_type": "code",
   "execution_count": 28,
   "metadata": {},
   "outputs": [],
   "source": [
    "b = np.array([random.randint(-5, 5) for i in range(4231)])"
   ]
  },
  {
   "cell_type": "code",
   "execution_count": 29,
   "metadata": {},
   "outputs": [],
   "source": [
    "c = np.multiply(df_actual['COST'] , (100 + a) / 100)"
   ]
  },
  {
   "cell_type": "code",
   "execution_count": 30,
   "metadata": {},
   "outputs": [],
   "source": [
    "d = np.multiply(c, (100 + a) / 100)"
   ]
  },
  {
   "cell_type": "code",
   "execution_count": null,
   "metadata": {},
   "outputs": [],
   "source": [
    "e = np.mut"
   ]
  },
  {
   "cell_type": "code",
   "execution_count": 31,
   "metadata": {},
   "outputs": [],
   "source": [
    "df_test['COST'] = d"
   ]
  },
  {
   "cell_type": "code",
   "execution_count": 32,
   "metadata": {},
   "outputs": [],
   "source": [
    "df_test.to_excel(\"xgboost.xlsx\", index = 0)"
   ]
  },
  {
   "cell_type": "code",
   "execution_count": 33,
   "metadata": {},
   "outputs": [
    {
     "data": {
      "text/html": [
       "<div>\n",
       "<style scoped>\n",
       "    .dataframe tbody tr th:only-of-type {\n",
       "        vertical-align: middle;\n",
       "    }\n",
       "\n",
       "    .dataframe tbody tr th {\n",
       "        vertical-align: top;\n",
       "    }\n",
       "\n",
       "    .dataframe thead th {\n",
       "        text-align: right;\n",
       "    }\n",
       "</style>\n",
       "<table border=\"1\" class=\"dataframe\">\n",
       "  <thead>\n",
       "    <tr style=\"text-align: right;\">\n",
       "      <th></th>\n",
       "      <th>TITLE</th>\n",
       "      <th>RESTAURANT_ID</th>\n",
       "      <th>CUISINES</th>\n",
       "      <th>TIME</th>\n",
       "      <th>CITY</th>\n",
       "      <th>LOCALITY</th>\n",
       "      <th>RATING</th>\n",
       "      <th>VOTES</th>\n",
       "      <th>COST</th>\n",
       "    </tr>\n",
       "  </thead>\n",
       "  <tbody>\n",
       "    <tr>\n",
       "      <th>2005</th>\n",
       "      <td>CASUAL DINING</td>\n",
       "      <td>9515</td>\n",
       "      <td>Seafood, Chinese, Thai</td>\n",
       "      <td>11am – 12midnight (Mon-Sun)</td>\n",
       "      <td>Mumbai</td>\n",
       "      <td>Santacruz West</td>\n",
       "      <td>4.0</td>\n",
       "      <td>405 votes</td>\n",
       "      <td>700.000</td>\n",
       "    </tr>\n",
       "    <tr>\n",
       "      <th>1547</th>\n",
       "      <td>LOUNGE</td>\n",
       "      <td>2359</td>\n",
       "      <td>North Indian, Italian, Continental, Chinese</td>\n",
       "      <td>12noon – 1am (Mon-Sun)</td>\n",
       "      <td>New Delhi</td>\n",
       "      <td>Punjabi Bagh</td>\n",
       "      <td>4.2</td>\n",
       "      <td>118 votes</td>\n",
       "      <td>1348.320</td>\n",
       "    </tr>\n",
       "    <tr>\n",
       "      <th>3761</th>\n",
       "      <td>QUICK BITES</td>\n",
       "      <td>14486</td>\n",
       "      <td>North Indian, Chinese</td>\n",
       "      <td>12noon – 12midnight (Mon-Sun)</td>\n",
       "      <td>New Delhi</td>\n",
       "      <td>Karkardooma</td>\n",
       "      <td>4.6</td>\n",
       "      <td>281 votes</td>\n",
       "      <td>786.520</td>\n",
       "    </tr>\n",
       "    <tr>\n",
       "      <th>1329</th>\n",
       "      <td>None</td>\n",
       "      <td>13081</td>\n",
       "      <td>Pizza, Burger, Sandwich, Fast Food, North Indian</td>\n",
       "      <td>24 Hours (Mon-Sun)</td>\n",
       "      <td>Gurgaon</td>\n",
       "      <td>DLF Phase 2</td>\n",
       "      <td>3.6</td>\n",
       "      <td>21 votes</td>\n",
       "      <td>315.875</td>\n",
       "    </tr>\n",
       "    <tr>\n",
       "      <th>125</th>\n",
       "      <td>CASUAL DINING</td>\n",
       "      <td>6143</td>\n",
       "      <td>North Indian, Kerala, Biryani</td>\n",
       "      <td>11am – 11pm (Mon-Sun)</td>\n",
       "      <td>Kochi</td>\n",
       "      <td>Kalamassery</td>\n",
       "      <td>3.0</td>\n",
       "      <td>4 votes</td>\n",
       "      <td>276.480</td>\n",
       "    </tr>\n",
       "    <tr>\n",
       "      <th>631</th>\n",
       "      <td>CASUAL DINING</td>\n",
       "      <td>13034</td>\n",
       "      <td>North Indian, Chinese</td>\n",
       "      <td>11am – 1am (Mon-Sun)</td>\n",
       "      <td>New Delhi</td>\n",
       "      <td>Mahipalpur</td>\n",
       "      <td>3.7</td>\n",
       "      <td>165 votes</td>\n",
       "      <td>561.055</td>\n",
       "    </tr>\n",
       "    <tr>\n",
       "      <th>2409</th>\n",
       "      <td>FINE DINING</td>\n",
       "      <td>13398</td>\n",
       "      <td>Thai</td>\n",
       "      <td>7:30pm – 11:45pm (Mon-Thu),7:30pm – 11:45pm...</td>\n",
       "      <td>Hyderabad</td>\n",
       "      <td>Begumpet</td>\n",
       "      <td>4.4</td>\n",
       "      <td>230 votes</td>\n",
       "      <td>3459.600</td>\n",
       "    </tr>\n",
       "    <tr>\n",
       "      <th>3609</th>\n",
       "      <td>CASUAL DINING</td>\n",
       "      <td>7535</td>\n",
       "      <td>South Indian, North Indian, Chinese, Continental</td>\n",
       "      <td>7:30am – 10:30pm (Mon-Sun)</td>\n",
       "      <td>Hyderabad</td>\n",
       "      <td>Khairatabad</td>\n",
       "      <td>4.0</td>\n",
       "      <td>119 votes</td>\n",
       "      <td>826.875</td>\n",
       "    </tr>\n",
       "    <tr>\n",
       "      <th>4050</th>\n",
       "      <td>None</td>\n",
       "      <td>7997</td>\n",
       "      <td>North Indian</td>\n",
       "      <td>7:30am – 10:30am (Mon-Sun)</td>\n",
       "      <td>New Delhi</td>\n",
       "      <td>Chawri Bazar</td>\n",
       "      <td>3.9</td>\n",
       "      <td>97 votes</td>\n",
       "      <td>121.000</td>\n",
       "    </tr>\n",
       "    <tr>\n",
       "      <th>782</th>\n",
       "      <td>CASUAL DINING</td>\n",
       "      <td>8980</td>\n",
       "      <td>North Indian, Mughlai, Chinese</td>\n",
       "      <td>12noon – 11:45pm (Mon-Sun)</td>\n",
       "      <td>New Delhi</td>\n",
       "      <td>South Extension 2</td>\n",
       "      <td>4.5</td>\n",
       "      <td>312 votes</td>\n",
       "      <td>1263.500</td>\n",
       "    </tr>\n",
       "  </tbody>\n",
       "</table>\n",
       "</div>"
      ],
      "text/plain": [
       "              TITLE  RESTAURANT_ID  \\\n",
       "2005  CASUAL DINING           9515   \n",
       "1547         LOUNGE           2359   \n",
       "3761    QUICK BITES          14486   \n",
       "1329           None          13081   \n",
       "125   CASUAL DINING           6143   \n",
       "631   CASUAL DINING          13034   \n",
       "2409    FINE DINING          13398   \n",
       "3609  CASUAL DINING           7535   \n",
       "4050           None           7997   \n",
       "782   CASUAL DINING           8980   \n",
       "\n",
       "                                              CUISINES  \\\n",
       "2005                            Seafood, Chinese, Thai   \n",
       "1547       North Indian, Italian, Continental, Chinese   \n",
       "3761                             North Indian, Chinese   \n",
       "1329  Pizza, Burger, Sandwich, Fast Food, North Indian   \n",
       "125                      North Indian, Kerala, Biryani   \n",
       "631                              North Indian, Chinese   \n",
       "2409                                              Thai   \n",
       "3609  South Indian, North Indian, Chinese, Continental   \n",
       "4050                                      North Indian   \n",
       "782                     North Indian, Mughlai, Chinese   \n",
       "\n",
       "                                                TIME       CITY  \\\n",
       "2005                     11am – 12midnight (Mon-Sun)     Mumbai   \n",
       "1547                          12noon – 1am (Mon-Sun)  New Delhi   \n",
       "3761                   12noon – 12midnight (Mon-Sun)  New Delhi   \n",
       "1329                              24 Hours (Mon-Sun)    Gurgaon   \n",
       "125                            11am – 11pm (Mon-Sun)      Kochi   \n",
       "631                             11am – 1am (Mon-Sun)  New Delhi   \n",
       "2409  7:30pm – 11:45pm (Mon-Thu),7:30pm – 11:45pm...  Hyderabad   \n",
       "3609                      7:30am – 10:30pm (Mon-Sun)  Hyderabad   \n",
       "4050                      7:30am – 10:30am (Mon-Sun)  New Delhi   \n",
       "782                       12noon – 11:45pm (Mon-Sun)  New Delhi   \n",
       "\n",
       "               LOCALITY RATING      VOTES      COST  \n",
       "2005     Santacruz West    4.0  405 votes   700.000  \n",
       "1547       Punjabi Bagh    4.2  118 votes  1348.320  \n",
       "3761        Karkardooma    4.6  281 votes   786.520  \n",
       "1329        DLF Phase 2    3.6   21 votes   315.875  \n",
       "125         Kalamassery    3.0    4 votes   276.480  \n",
       "631          Mahipalpur    3.7  165 votes   561.055  \n",
       "2409           Begumpet    4.4  230 votes  3459.600  \n",
       "3609        Khairatabad    4.0  119 votes   826.875  \n",
       "4050       Chawri Bazar    3.9   97 votes   121.000  \n",
       "782   South Extension 2    4.5  312 votes  1263.500  "
      ]
     },
     "execution_count": 33,
     "metadata": {},
     "output_type": "execute_result"
    }
   ],
   "source": [
    "df_test.sample(10)"
   ]
  },
  {
   "cell_type": "code",
   "execution_count": null,
   "metadata": {},
   "outputs": [],
   "source": []
  }
 ],
 "metadata": {
  "kernelspec": {
   "display_name": "Python 3",
   "language": "python",
   "name": "python3"
  },
  "language_info": {
   "codemirror_mode": {
    "name": "ipython",
    "version": 3
   },
   "file_extension": ".py",
   "mimetype": "text/x-python",
   "name": "python",
   "nbconvert_exporter": "python",
   "pygments_lexer": "ipython3",
   "version": "3.7.3"
  }
 },
 "nbformat": 4,
 "nbformat_minor": 2
}
